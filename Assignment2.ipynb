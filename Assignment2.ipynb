{
 "cells": [
  {
   "cell_type": "markdown",
   "metadata": {},
   "source": [
    "## Rewrite your pay computation to give the employees 1.5 times the hourly rate for hours worked above 40 hours.\n",
    "## Enter Hours : 45\n",
    "## Enter rate : 10\n",
    "## Pay : 475.0"
   ]
  },
  {
   "cell_type": "code",
   "execution_count": 7,
   "metadata": {},
   "outputs": [
    {
     "name": "stdout",
     "output_type": "stream",
     "text": [
      "Enter your worked_hours: 45\n",
      "Enter your rate: 10\n",
      "5.0\n",
      "475.0\n"
     ]
    }
   ],
   "source": [
    "try:\n",
    "    normal_hours = 40\n",
    "    worked_hours = float(input(\"Enter your worked_hours: \"))\n",
    "    rate = int(input(\"Enter your rate: \"))\n",
    "    \n",
    "    if worked_hours > 40:\n",
    "        overtime = (worked_hours-40)\n",
    "        print(overtime)\n",
    "        Pay = normal_hours*rate + overtime*1.5*10\n",
    "        print(Pay)\n",
    "        \n",
    "except:\n",
    "    print(\"You have not entered a numerical value\")"
   ]
  },
  {
   "cell_type": "markdown",
   "metadata": {},
   "source": [
    "### Question 2"
   ]
  },
  {
   "cell_type": "markdown",
   "metadata": {},
   "source": [
    "Rewrite your pay program using try and except so that your program handles non-numeric input gracefully.\n",
    "Enter Hours : 20\n",
    "Enter Rate : nine\n",
    "    \n",
    "Enter Hours : forty"
   ]
  },
  {
   "cell_type": "code",
   "execution_count": 2,
   "metadata": {},
   "outputs": [
    {
     "name": "stdout",
     "output_type": "stream",
     "text": [
      "Enter your hours: 20\n",
      "Enter your normal_rate: nine\n",
      "Error, please enter numeric input\n"
     ]
    }
   ],
   "source": [
    "try:\n",
    "    hours = int(input(\"Enter your hours: \"))\n",
    "    normal_rate = int(input(\"Enter your normal_rate: \"))\n",
    "    \n",
    "    if hours > 40:\n",
    "        overtime = hours-40\n",
    "        print(overtime)\n",
    "        Pay = normal_hours*rate + overtime*1.5*10\n",
    "        print(Pay)\n",
    "    else:\n",
    "        hours == forty\n",
    "        \n",
    "except:\n",
    "    print(\"Error, please enter numeric input\")"
   ]
  },
  {
   "cell_type": "code",
   "execution_count": null,
   "metadata": {},
   "outputs": [],
   "source": []
  }
 ],
 "metadata": {
  "kernelspec": {
   "display_name": "Python 3",
   "language": "python",
   "name": "python3"
  },
  "language_info": {
   "codemirror_mode": {
    "name": "ipython",
    "version": 3
   },
   "file_extension": ".py",
   "mimetype": "text/x-python",
   "name": "python",
   "nbconvert_exporter": "python",
   "pygments_lexer": "ipython3",
   "version": "3.7.3"
  }
 },
 "nbformat": 4,
 "nbformat_minor": 2
}
