{
 "cells": [
  {
   "cell_type": "markdown",
   "metadata": {},
   "source": [
    "## Comparison "
   ]
  },
  {
   "cell_type": "markdown",
   "metadata": {},
   "source": [
    "## Conditions"
   ]
  },
  {
   "cell_type": "markdown",
   "metadata": {},
   "source": [
    "## One way Decision"
   ]
  },
  {
   "cell_type": "code",
   "execution_count": 1,
   "metadata": {},
   "outputs": [
    {
     "name": "stdout",
     "output_type": "stream",
     "text": [
      "Less than 70\n"
     ]
    }
   ],
   "source": [
    "score = 67\n",
    "if score < 70 :\n",
    "    print(\"Less than 70\")\n",
    "    \n",
    "if score > 70 :\n",
    "    print(\"Greater than 70\")"
   ]
  },
  {
   "cell_type": "code",
   "execution_count": 2,
   "metadata": {},
   "outputs": [
    {
     "name": "stdout",
     "output_type": "stream",
     "text": [
      "Equals to\n"
     ]
    }
   ],
   "source": [
    "if score == 67.0:\n",
    "    print(\"Equals to\")"
   ]
  },
  {
   "cell_type": "code",
   "execution_count": 3,
   "metadata": {},
   "outputs": [],
   "source": [
    "if score == 67.1:\n",
    "    print(\"Equals to\")"
   ]
  },
  {
   "cell_type": "code",
   "execution_count": 4,
   "metadata": {},
   "outputs": [
    {
     "name": "stdout",
     "output_type": "stream",
     "text": [
      "Not Equal\n"
     ]
    }
   ],
   "source": [
    "if score != 100:\n",
    "    print(\"Not Equal\")"
   ]
  },
  {
   "cell_type": "code",
   "execution_count": 5,
   "metadata": {},
   "outputs": [
    {
     "name": "stdout",
     "output_type": "stream",
     "text": [
      "Not equal\n",
      "yes\n"
     ]
    }
   ],
   "source": [
    "if score !=100:\n",
    "    print(\"Not equal\")\n",
    "    print(\"yes\")\n",
    "    "
   ]
  },
  {
   "cell_type": "code",
   "execution_count": 6,
   "metadata": {},
   "outputs": [
    {
     "name": "stdout",
     "output_type": "stream",
     "text": [
      "Not Equal\n",
      "yes\n"
     ]
    }
   ],
   "source": [
    "if score !=100:\n",
    "    print(\"Not Equal\")\n",
    "    print(\"yes\")"
   ]
  },
  {
   "cell_type": "code",
   "execution_count": 7,
   "metadata": {},
   "outputs": [
    {
     "name": "stdout",
     "output_type": "stream",
     "text": [
      "Not Equal\n",
      "yes\n"
     ]
    }
   ],
   "source": [
    "if score != 100:\n",
    "    print(\"Not Equal\")\n",
    "print(\"yes\")"
   ]
  },
  {
   "cell_type": "markdown",
   "metadata": {},
   "source": [
    "## Two way Decision"
   ]
  },
  {
   "cell_type": "code",
   "execution_count": 8,
   "metadata": {},
   "outputs": [
    {
     "name": "stdout",
     "output_type": "stream",
     "text": [
      "Less than\n"
     ]
    }
   ],
   "source": [
    "x = 10\n",
    "\n",
    "if x > 10 :\n",
    "    print(\"Greater than\")\n",
    "else:\n",
    "    print(\"Less than\")\n"
   ]
  },
  {
   "cell_type": "markdown",
   "metadata": {},
   "source": [
    "## Multiway"
   ]
  },
  {
   "cell_type": "code",
   "execution_count": 9,
   "metadata": {},
   "outputs": [
    {
     "name": "stdout",
     "output_type": "stream",
     "text": [
      "Medium\n"
     ]
    }
   ],
   "source": [
    "x = 4\n",
    "\n",
    "if x < 2 :\n",
    "    print(\"small\")\n",
    "elif x < 10 :\n",
    "    print (\"Medium\")\n",
    "else :\n",
    "    print (\"Large\")"
   ]
  },
  {
   "cell_type": "code",
   "execution_count": 10,
   "metadata": {},
   "outputs": [
    {
     "name": "stdout",
     "output_type": "stream",
     "text": [
      "Enter your score: 56\n",
      "C\n"
     ]
    }
   ],
   "source": [
    "score = int(input(\"Enter your score: \"))\n",
    "\n",
    "if score < 40:\n",
    "    print(\"Fail\")\n",
    "elif score < 50 :\n",
    "    print(\"D\")\n",
    "elif score < 60:\n",
    "    print(\"C\")\n",
    "elif score < 70 :\n",
    "    print(\"B\")\n",
    "else :\n",
    "    if score > 70:\n",
    "        print(\"A\")"
   ]
  },
  {
   "cell_type": "code",
   "execution_count": 11,
   "metadata": {},
   "outputs": [
    {
     "name": "stdout",
     "output_type": "stream",
     "text": [
      "Enter your value: 82\n",
      "A\n"
     ]
    }
   ],
   "source": [
    "value = int(input(\"Enter your value: \"))\n",
    "\n",
    "if value < 50:\n",
    "    print(\"D\")\n",
    "elif value < 60:\n",
    "    print(\"C\")\n",
    "elif value < 70:\n",
    "    print(\"B\")\n",
    "else :\n",
    "    if value > 80:\n",
    "        print(\"A\")"
   ]
  },
  {
   "cell_type": "markdown",
   "metadata": {},
   "source": [
    "## The try /  except Structure"
   ]
  },
  {
   "cell_type": "code",
   "execution_count": 12,
   "metadata": {},
   "outputs": [
    {
     "name": "stdout",
     "output_type": "stream",
     "text": [
      "first -1\n"
     ]
    }
   ],
   "source": [
    "astr = (\"Hello Bob\")\n",
    "try:\n",
    "    istr = int(astr)\n",
    "except:\n",
    "    istr = -1\n",
    "    \n",
    "print(\"first\", istr)"
   ]
  },
  {
   "cell_type": "code",
   "execution_count": 13,
   "metadata": {},
   "outputs": [
    {
     "name": "stdout",
     "output_type": "stream",
     "text": [
      "second 123\n"
     ]
    }
   ],
   "source": [
    "astr = \"123\"\n",
    "try:\n",
    "    istr= int(astr)\n",
    "except: \n",
    "    istr = -1\n",
    "\n",
    "print (\"second\",istr)"
   ]
  },
  {
   "cell_type": "code",
   "execution_count": 14,
   "metadata": {},
   "outputs": [
    {
     "data": {
      "text/plain": [
       "str"
      ]
     },
     "execution_count": 14,
     "metadata": {},
     "output_type": "execute_result"
    }
   ],
   "source": [
    "type(astr)"
   ]
  },
  {
   "cell_type": "code",
   "execution_count": 15,
   "metadata": {},
   "outputs": [
    {
     "name": "stdout",
     "output_type": "stream",
     "text": [
      "first -1\n",
      "second 123\n"
     ]
    }
   ],
   "source": [
    "astr = (\"Hello Bob\")\n",
    "try: \n",
    "    istr = int(astr)\n",
    "except:\n",
    "    istr = -1\n",
    "    \n",
    "print(\"first\",istr)\n",
    "\n",
    "astr = (\"123\")\n",
    "try:\n",
    "    istr= int(astr)\n",
    "except:\n",
    "    istr = -1\n",
    "    \n",
    "print (\"second\",istr)"
   ]
  },
  {
   "cell_type": "markdown",
   "metadata": {},
   "source": [
    "## if the code with try works except is not executed\n",
    "## if the code with try fails except is executed"
   ]
  },
  {
   "cell_type": "code",
   "execution_count": 16,
   "metadata": {},
   "outputs": [
    {
     "name": "stdout",
     "output_type": "stream",
     "text": [
      "Enter your age: 4o\n",
      "You have not entered a numerical age\n"
     ]
    }
   ],
   "source": [
    "try:\n",
    "    string_age = input(\"Enter your age: \")\n",
    "    float_age = float(string_age)\n",
    "    print(\"You're \",float_age,\" years old\" )\n",
    "except:\n",
    "    print(\"You have not entered a numerical age\")"
   ]
  },
  {
   "cell_type": "code",
   "execution_count": 24,
   "metadata": {},
   "outputs": [
    {
     "name": "stdout",
     "output_type": "stream",
     "text": [
      "Enter your score: 6o\n",
      "You have not entered your numerical score\n"
     ]
    }
   ],
   "source": [
    "try:\n",
    "    string_score = input(\"Enter your score: \")\n",
    "    float_score = float(string_score)\n",
    "\n",
    "    if score < 40:\n",
    "        print(\"Fail\")\n",
    "\n",
    "    elif score < 50:\n",
    "        print(\"D\")\n",
    "    \n",
    "    elif score < 60:\n",
    "        print(\"C\")\n",
    "\n",
    "    elif score < 70:\n",
    "        print(\"B\")\n",
    "    else:\n",
    "        if score > 70:\n",
    "            print(\"A\")\n",
    "except:\n",
    "    print(\"You have not entered your numerical score\")"
   ]
  },
  {
   "cell_type": "code",
   "execution_count": 34,
   "metadata": {},
   "outputs": [
    {
     "name": "stdout",
     "output_type": "stream",
     "text": [
      "Enter your value: 45.7\n",
      "D\n"
     ]
    }
   ],
   "source": [
    "try:\n",
    "    string_value = input(\"Enter your value: \")\n",
    "    float_value = float(string_value)\n",
    "    \n",
    "    if float_value < 60:\n",
    "        print(\"D\")\n",
    "    elif float_value < 70:\n",
    "        print(\"C\")\n",
    "    elif float_value < 80:\n",
    "        print(\"B\")\n",
    "    else:\n",
    "        if float_value > 80:\n",
    "            print(\"A\")\n",
    "except:\n",
    "    print('You have not entered a numerical value')"
   ]
  },
  {
   "cell_type": "code",
   "execution_count": null,
   "metadata": {},
   "outputs": [],
   "source": []
  }
 ],
 "metadata": {
  "kernelspec": {
   "display_name": "Python 3",
   "language": "python",
   "name": "python3"
  },
  "language_info": {
   "codemirror_mode": {
    "name": "ipython",
    "version": 3
   },
   "file_extension": ".py",
   "mimetype": "text/x-python",
   "name": "python",
   "nbconvert_exporter": "python",
   "pygments_lexer": "ipython3",
   "version": "3.7.3"
  }
 },
 "nbformat": 4,
 "nbformat_minor": 2
}
