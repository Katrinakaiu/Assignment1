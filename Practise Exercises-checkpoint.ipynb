{
 "cells": [
  {
   "cell_type": "markdown",
   "metadata": {},
   "source": [
    "## Question 1"
   ]
  },
  {
   "cell_type": "markdown",
   "metadata": {},
   "source": [
    "Take values of length and width of a rectangles from the user and check if it is a square or not"
   ]
  },
  {
   "cell_type": "code",
   "execution_count": 23,
   "metadata": {},
   "outputs": [
    {
     "name": "stdout",
     "output_type": "stream",
     "text": [
      "What is your length: 50\n",
      "What is your width: 50\n",
      "square\n"
     ]
    }
   ],
   "source": [
    "try:\n",
    "\n",
    "    string_length = float(input(\"What is your length: \"))\n",
    "    \n",
    "\n",
    "    string_width = float(input(\"What is your width: \"))\n",
    "    \n",
    "\n",
    "    if string_length == string_width:\n",
    "        print(\"square\")\n",
    "    else:\n",
    "        print(\"rectangle\")\n",
    "except:\n",
    "    ('You have not entered a numerical value')"
   ]
  },
  {
   "cell_type": "markdown",
   "metadata": {},
   "source": [
    "### Question 2"
   ]
  },
  {
   "cell_type": "markdown",
   "metadata": {},
   "source": [
    "Take two integer values from the user and print greatest among them"
   ]
  },
  {
   "cell_type": "code",
   "execution_count": 29,
   "metadata": {},
   "outputs": [
    {
     "name": "stdout",
     "output_type": "stream",
     "text": [
      "Enter your first value:10\n",
      "Enter your second value:10\n",
      "a is equal to b\n"
     ]
    }
   ],
   "source": [
    "try:\n",
    "    \n",
    "    a = int(input('Enter your first value:'))\n",
    "    b = int(input('Enter your second value:'))\n",
    "    \n",
    "    if a > b:\n",
    "        print(\"a greater than b\")\n",
    "        if a < b:\n",
    "            print(\"b greater than a\")\n",
    "    else:\n",
    "        print(\"a is equal to b\" )\n",
    "\n",
    "except:\n",
    "    print('You have not entered a numerical value')"
   ]
  },
  {
   "cell_type": "markdown",
   "metadata": {},
   "source": [
    "## Question 3"
   ]
  },
  {
   "cell_type": "markdown",
   "metadata": {},
   "source": [
    "A shop will give discount of 10% if the cost of purchased quantity is more than 1000\n",
    "Ask user for quantity\n",
    "Suppose, one unit will cost 100\n",
    "Judge and print total cost for user\n"
   ]
  },
  {
   "cell_type": "code",
   "execution_count": 1,
   "metadata": {},
   "outputs": [
    {
     "name": "stdout",
     "output_type": "stream",
     "text": [
      "Enter your quantity: 20\n",
      "200.0\n",
      "1800.0\n"
     ]
    }
   ],
   "source": [
    "try:\n",
    "    \n",
    "    discount = 10/100\n",
    "    quantity = int(input('Enter your quantity: '))\n",
    "    unit_cost= 100\n",
    "    total_cost = quantity*unit_cost\n",
    "    \n",
    "\n",
    "    if total_cost > 1000:\n",
    "        discountgiven=total_cost*discount\n",
    "        print(discountgiven)\n",
    "        actual_cost=total_cost-discountgiven\n",
    "        print(actual_cost)\n",
    "        \n",
    "    else:\n",
    "        print(total_cost)\n",
    "\n",
    "except:\n",
    "    print('You have not entered a numerical value')"
   ]
  },
  {
   "cell_type": "markdown",
   "metadata": {},
   "source": [
    "# Question 4"
   ]
  },
  {
   "cell_type": "markdown",
   "metadata": {},
   "source": [
    "A company decided to give a bonus of 5% to employee if his/her year of service is less than or equal to 5 years and 10% if his/her year of service is less than years but greater than 5 years and lastly 15% for 10 years and above.\n",
    "Ask user for their salary and year of service and print net bonus amount."
   ]
  },
  {
   "cell_type": "code",
   "execution_count": 4,
   "metadata": {},
   "outputs": [
    {
     "name": "stdout",
     "output_type": "stream",
     "text": [
      "Enter your years_of_service: 6\n",
      "Enter your salary: 60000\n",
      "6000.0\n"
     ]
    }
   ],
   "source": [
    "try:\n",
    "    years_of_service = int(input(\"Enter your years_of_service: \"))\n",
    "    salary = int(input(\"Enter your salary: \"))\n",
    "    \n",
    "    if years_of_service < 5:\n",
    "        bonus = 5/100\n",
    "        net_bonus=5/100*salary\n",
    "        print(net_bonus)\n",
    "    elif years_of_service > 5 :\n",
    "        bonus = 10/100\n",
    "        net_bonus=10/100*salary\n",
    "        print(net_bonus)\n",
    "    elif years_of_service > 10 :\n",
    "        bonus = 10/100\n",
    "        net_bonus=10/100*salary\n",
    "        print(net_bonus)\n",
    "        \n",
    "    else:\n",
    "        if years_of_service > 10:\n",
    "            bonus = 15/100\n",
    "            net_bonus=15/100*salary\n",
    "            print(net_bonus)\n",
    "            \n",
    "except:\n",
    "    print(\"You have not entered a numerical value\")"
   ]
  },
  {
   "cell_type": "markdown",
   "metadata": {},
   "source": [
    "# Question 5"
   ]
  },
  {
   "cell_type": "markdown",
   "metadata": {},
   "source": [
    "A school has the following rules for grading system:\n",
    "    \n",
    "a. Below 25 - F\n",
    "\n",
    "b. 25 to 45 - E\n",
    " \n",
    "c. 45 to 50 - D \n",
    "\n",
    "d. 50 to 60 - C\n",
    "\n",
    "e. 60 to 80 - B\n",
    "\n",
    "f. Above 80 - A\n",
    " \n",
    "Ask user to enter marks and print the corresponding grade."
   ]
  },
  {
   "cell_type": "code",
   "execution_count": 16,
   "metadata": {},
   "outputs": [
    {
     "name": "stdout",
     "output_type": "stream",
     "text": [
      "Enter your marks: 79\n",
      "B\n"
     ]
    }
   ],
   "source": [
    "try: \n",
    "    marks = int(input(\"Enter your marks: \"))\n",
    "    \n",
    "    if marks < 25:\n",
    "        print(\"F\")\n",
    "    elif marks == 25:\n",
    "        print(\"E\")\n",
    "    elif marks < 45:\n",
    "        print(\"E\")\n",
    "    elif marks == 45:\n",
    "        print(\"D\")\n",
    "    elif marks < 50:\n",
    "        print(\"D\")\n",
    "    elif marks == 50:\n",
    "        print(\"C\")\n",
    "    elif marks < 60:\n",
    "        print(\"C\")\n",
    "    elif marks == 60:\n",
    "        print(\"B\")\n",
    "    elif marks < 80:\n",
    "        print(\"B\")\n",
    "    else:\n",
    "        if marks > 80:\n",
    "            print(\"A\")\n",
    "            \n",
    "except:\n",
    "    print(\"You have not entered a numerical value\")"
   ]
  },
  {
   "cell_type": "markdown",
   "metadata": {},
   "source": [
    "# Question 6"
   ]
  },
  {
   "cell_type": "markdown",
   "metadata": {},
   "source": [
    "Take input of age of 3 people by user and determine oldest and youngest among them then print their average age."
   ]
  },
  {
   "cell_type": "code",
   "execution_count": 2,
   "metadata": {},
   "outputs": [
    {
     "name": "stdout",
     "output_type": "stream",
     "text": [
      "Enter the first person's age: 60\n",
      "Enter the second's person's age: 45\n",
      "Enter the third's person's age: 15\n",
      "a is greater than b\n"
     ]
    }
   ],
   "source": [
    "try: \n",
    "    a = int(input(\"Enter the first person's age: \"))\n",
    "    b = int(input(\"Enter the second's person's age: \"))\n",
    "    c = int(input(\"Enter the third's person's age: \"))\n",
    "    \n",
    "    if a > b :\n",
    "        print(\"a is greater than b\")\n",
    "    elif b > c :\n",
    "        print(\"b is greater than c\")\n",
    "    elif a > c :\n",
    "        print(\"a is greater than c\")\n",
    "    elif b > a :\n",
    "        print(\"b is greater than a\")\n",
    "    elif c > a :\n",
    "        print(\"c is greater than a\")\n",
    "    else: \n",
    "        if c > b :\n",
    "            print(\"c is greater than b\")\n",
    "            \n",
    "except:\n",
    "    print(\"You have not entered a numerical value\")"
   ]
  },
  {
   "cell_type": "markdown",
   "metadata": {},
   "source": [
    "# Question 7"
   ]
  },
  {
   "cell_type": "markdown",
   "metadata": {},
   "source": [
    "A student will not be allowed to sit an exam if his/her attendance is less than 75%.\n",
    "Take the following input from the user,number of classes held,number of classes attended , and print percentage of class attended and if student is allowed to sit in class or not."
   ]
  },
  {
   "cell_type": "code",
   "execution_count": null,
   "metadata": {},
   "outputs": [],
   "source": [
    "try:\n",
    "    "
   ]
  }
 ],
 "metadata": {
  "kernelspec": {
   "display_name": "Python 3",
   "language": "python",
   "name": "python3"
  },
  "language_info": {
   "codemirror_mode": {
    "name": "ipython",
    "version": 3
   },
   "file_extension": ".py",
   "mimetype": "text/x-python",
   "name": "python",
   "nbconvert_exporter": "python",
   "pygments_lexer": "ipython3",
   "version": "3.7.3"
  }
 },
 "nbformat": 4,
 "nbformat_minor": 2
}
